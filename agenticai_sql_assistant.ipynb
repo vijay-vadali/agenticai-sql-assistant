{
  "nbformat": 4,
  "nbformat_minor": 0,
  "metadata": {
    "colab": {
      "provenance": []
    },
    "kernelspec": {
      "name": "python3",
      "display_name": "Python 3"
    },
    "language_info": {
      "name": "python"
    }
  },
  "cells": [
    {
      "cell_type": "code",
      "source": [
        "from IPython.display import HTML, display\n",
        "\n",
        "def set_css():\n",
        "  display(HTML('''\n",
        "  <style>\n",
        "    pre {\n",
        "        white-space: pre-wrap;\n",
        "    }\n",
        "  </style>\n",
        "  '''))\n",
        "get_ipython().events.register('pre_run_cell', set_css)"
      ],
      "metadata": {
        "id": "MplqDTaAwKY7"
      },
      "execution_count": 36,
      "outputs": []
    },
    {
      "cell_type": "code",
      "execution_count": 1,
      "metadata": {
        "id": "8VBZOJ9c2cr_",
        "colab": {
          "base_uri": "https://localhost:8080/"
        },
        "outputId": "918152a9-80cd-491c-c835-3871fa1626c7"
      },
      "outputs": [
        {
          "output_type": "stream",
          "name": "stdout",
          "text": [
            "Requirement already satisfied: streamlit in /usr/local/lib/python3.11/dist-packages (1.46.1)\n",
            "Requirement already satisfied: langchain in /usr/local/lib/python3.11/dist-packages (0.3.26)\n",
            "Requirement already satisfied: openai in /usr/local/lib/python3.11/dist-packages (1.93.0)\n",
            "Requirement already satisfied: langchain-openai in /usr/local/lib/python3.11/dist-packages (0.3.27)\n",
            "Requirement already satisfied: langchain-community in /usr/local/lib/python3.11/dist-packages (0.3.27)\n",
            "Requirement already satisfied: altair<6,>=4.0 in /usr/local/lib/python3.11/dist-packages (from streamlit) (5.5.0)\n",
            "Requirement already satisfied: blinker<2,>=1.5.0 in /usr/local/lib/python3.11/dist-packages (from streamlit) (1.9.0)\n",
            "Requirement already satisfied: cachetools<7,>=4.0 in /usr/local/lib/python3.11/dist-packages (from streamlit) (5.5.2)\n",
            "Requirement already satisfied: click<9,>=7.0 in /usr/local/lib/python3.11/dist-packages (from streamlit) (8.2.1)\n",
            "Requirement already satisfied: numpy<3,>=1.23 in /usr/local/lib/python3.11/dist-packages (from streamlit) (2.0.2)\n",
            "Requirement already satisfied: packaging<26,>=20 in /usr/local/lib/python3.11/dist-packages (from streamlit) (24.2)\n",
            "Requirement already satisfied: pandas<3,>=1.4.0 in /usr/local/lib/python3.11/dist-packages (from streamlit) (2.2.2)\n",
            "Requirement already satisfied: pillow<12,>=7.1.0 in /usr/local/lib/python3.11/dist-packages (from streamlit) (11.2.1)\n",
            "Requirement already satisfied: protobuf<7,>=3.20 in /usr/local/lib/python3.11/dist-packages (from streamlit) (5.29.5)\n",
            "Requirement already satisfied: pyarrow>=7.0 in /usr/local/lib/python3.11/dist-packages (from streamlit) (18.1.0)\n",
            "Requirement already satisfied: requests<3,>=2.27 in /usr/local/lib/python3.11/dist-packages (from streamlit) (2.32.3)\n",
            "Requirement already satisfied: tenacity<10,>=8.1.0 in /usr/local/lib/python3.11/dist-packages (from streamlit) (8.5.0)\n",
            "Requirement already satisfied: toml<2,>=0.10.1 in /usr/local/lib/python3.11/dist-packages (from streamlit) (0.10.2)\n",
            "Requirement already satisfied: typing-extensions<5,>=4.4.0 in /usr/local/lib/python3.11/dist-packages (from streamlit) (4.14.0)\n",
            "Requirement already satisfied: watchdog<7,>=2.1.5 in /usr/local/lib/python3.11/dist-packages (from streamlit) (6.0.0)\n",
            "Requirement already satisfied: gitpython!=3.1.19,<4,>=3.0.7 in /usr/local/lib/python3.11/dist-packages (from streamlit) (3.1.44)\n",
            "Requirement already satisfied: pydeck<1,>=0.8.0b4 in /usr/local/lib/python3.11/dist-packages (from streamlit) (0.9.1)\n",
            "Requirement already satisfied: tornado!=6.5.0,<7,>=6.0.3 in /usr/local/lib/python3.11/dist-packages (from streamlit) (6.4.2)\n",
            "Requirement already satisfied: langchain-core<1.0.0,>=0.3.66 in /usr/local/lib/python3.11/dist-packages (from langchain) (0.3.67)\n",
            "Requirement already satisfied: langchain-text-splitters<1.0.0,>=0.3.8 in /usr/local/lib/python3.11/dist-packages (from langchain) (0.3.8)\n",
            "Requirement already satisfied: langsmith>=0.1.17 in /usr/local/lib/python3.11/dist-packages (from langchain) (0.4.4)\n",
            "Requirement already satisfied: pydantic<3.0.0,>=2.7.4 in /usr/local/lib/python3.11/dist-packages (from langchain) (2.11.7)\n",
            "Requirement already satisfied: SQLAlchemy<3,>=1.4 in /usr/local/lib/python3.11/dist-packages (from langchain) (2.0.41)\n",
            "Requirement already satisfied: PyYAML>=5.3 in /usr/local/lib/python3.11/dist-packages (from langchain) (6.0.2)\n",
            "Requirement already satisfied: anyio<5,>=3.5.0 in /usr/local/lib/python3.11/dist-packages (from openai) (4.9.0)\n",
            "Requirement already satisfied: distro<2,>=1.7.0 in /usr/local/lib/python3.11/dist-packages (from openai) (1.9.0)\n",
            "Requirement already satisfied: httpx<1,>=0.23.0 in /usr/local/lib/python3.11/dist-packages (from openai) (0.28.1)\n",
            "Requirement already satisfied: jiter<1,>=0.4.0 in /usr/local/lib/python3.11/dist-packages (from openai) (0.10.0)\n",
            "Requirement already satisfied: sniffio in /usr/local/lib/python3.11/dist-packages (from openai) (1.3.1)\n",
            "Requirement already satisfied: tqdm>4 in /usr/local/lib/python3.11/dist-packages (from openai) (4.67.1)\n",
            "Requirement already satisfied: tiktoken<1,>=0.7 in /usr/local/lib/python3.11/dist-packages (from langchain-openai) (0.9.0)\n",
            "Requirement already satisfied: aiohttp<4.0.0,>=3.8.3 in /usr/local/lib/python3.11/dist-packages (from langchain-community) (3.11.15)\n",
            "Requirement already satisfied: dataclasses-json<0.7,>=0.5.7 in /usr/local/lib/python3.11/dist-packages (from langchain-community) (0.6.7)\n",
            "Requirement already satisfied: pydantic-settings<3.0.0,>=2.4.0 in /usr/local/lib/python3.11/dist-packages (from langchain-community) (2.10.1)\n",
            "Requirement already satisfied: httpx-sse<1.0.0,>=0.4.0 in /usr/local/lib/python3.11/dist-packages (from langchain-community) (0.4.1)\n",
            "Requirement already satisfied: aiohappyeyeballs>=2.3.0 in /usr/local/lib/python3.11/dist-packages (from aiohttp<4.0.0,>=3.8.3->langchain-community) (2.6.1)\n",
            "Requirement already satisfied: aiosignal>=1.1.2 in /usr/local/lib/python3.11/dist-packages (from aiohttp<4.0.0,>=3.8.3->langchain-community) (1.3.2)\n",
            "Requirement already satisfied: attrs>=17.3.0 in /usr/local/lib/python3.11/dist-packages (from aiohttp<4.0.0,>=3.8.3->langchain-community) (25.3.0)\n",
            "Requirement already satisfied: frozenlist>=1.1.1 in /usr/local/lib/python3.11/dist-packages (from aiohttp<4.0.0,>=3.8.3->langchain-community) (1.7.0)\n",
            "Requirement already satisfied: multidict<7.0,>=4.5 in /usr/local/lib/python3.11/dist-packages (from aiohttp<4.0.0,>=3.8.3->langchain-community) (6.6.3)\n",
            "Requirement already satisfied: propcache>=0.2.0 in /usr/local/lib/python3.11/dist-packages (from aiohttp<4.0.0,>=3.8.3->langchain-community) (0.3.2)\n",
            "Requirement already satisfied: yarl<2.0,>=1.17.0 in /usr/local/lib/python3.11/dist-packages (from aiohttp<4.0.0,>=3.8.3->langchain-community) (1.20.1)\n",
            "Requirement already satisfied: jinja2 in /usr/local/lib/python3.11/dist-packages (from altair<6,>=4.0->streamlit) (3.1.6)\n",
            "Requirement already satisfied: jsonschema>=3.0 in /usr/local/lib/python3.11/dist-packages (from altair<6,>=4.0->streamlit) (4.24.0)\n",
            "Requirement already satisfied: narwhals>=1.14.2 in /usr/local/lib/python3.11/dist-packages (from altair<6,>=4.0->streamlit) (1.45.0)\n",
            "Requirement already satisfied: idna>=2.8 in /usr/local/lib/python3.11/dist-packages (from anyio<5,>=3.5.0->openai) (3.10)\n",
            "Requirement already satisfied: marshmallow<4.0.0,>=3.18.0 in /usr/local/lib/python3.11/dist-packages (from dataclasses-json<0.7,>=0.5.7->langchain-community) (3.26.1)\n",
            "Requirement already satisfied: typing-inspect<1,>=0.4.0 in /usr/local/lib/python3.11/dist-packages (from dataclasses-json<0.7,>=0.5.7->langchain-community) (0.9.0)\n",
            "Requirement already satisfied: gitdb<5,>=4.0.1 in /usr/local/lib/python3.11/dist-packages (from gitpython!=3.1.19,<4,>=3.0.7->streamlit) (4.0.12)\n",
            "Requirement already satisfied: certifi in /usr/local/lib/python3.11/dist-packages (from httpx<1,>=0.23.0->openai) (2025.6.15)\n",
            "Requirement already satisfied: httpcore==1.* in /usr/local/lib/python3.11/dist-packages (from httpx<1,>=0.23.0->openai) (1.0.9)\n",
            "Requirement already satisfied: h11>=0.16 in /usr/local/lib/python3.11/dist-packages (from httpcore==1.*->httpx<1,>=0.23.0->openai) (0.16.0)\n",
            "Requirement already satisfied: jsonpatch<2.0,>=1.33 in /usr/local/lib/python3.11/dist-packages (from langchain-core<1.0.0,>=0.3.66->langchain) (1.33)\n",
            "Requirement already satisfied: orjson<4.0.0,>=3.9.14 in /usr/local/lib/python3.11/dist-packages (from langsmith>=0.1.17->langchain) (3.10.18)\n",
            "Requirement already satisfied: requests-toolbelt<2.0.0,>=1.0.0 in /usr/local/lib/python3.11/dist-packages (from langsmith>=0.1.17->langchain) (1.0.0)\n",
            "Requirement already satisfied: zstandard<0.24.0,>=0.23.0 in /usr/local/lib/python3.11/dist-packages (from langsmith>=0.1.17->langchain) (0.23.0)\n",
            "Requirement already satisfied: python-dateutil>=2.8.2 in /usr/local/lib/python3.11/dist-packages (from pandas<3,>=1.4.0->streamlit) (2.9.0.post0)\n",
            "Requirement already satisfied: pytz>=2020.1 in /usr/local/lib/python3.11/dist-packages (from pandas<3,>=1.4.0->streamlit) (2025.2)\n",
            "Requirement already satisfied: tzdata>=2022.7 in /usr/local/lib/python3.11/dist-packages (from pandas<3,>=1.4.0->streamlit) (2025.2)\n",
            "Requirement already satisfied: annotated-types>=0.6.0 in /usr/local/lib/python3.11/dist-packages (from pydantic<3.0.0,>=2.7.4->langchain) (0.7.0)\n",
            "Requirement already satisfied: pydantic-core==2.33.2 in /usr/local/lib/python3.11/dist-packages (from pydantic<3.0.0,>=2.7.4->langchain) (2.33.2)\n",
            "Requirement already satisfied: typing-inspection>=0.4.0 in /usr/local/lib/python3.11/dist-packages (from pydantic<3.0.0,>=2.7.4->langchain) (0.4.1)\n",
            "Requirement already satisfied: python-dotenv>=0.21.0 in /usr/local/lib/python3.11/dist-packages (from pydantic-settings<3.0.0,>=2.4.0->langchain-community) (1.1.1)\n",
            "Requirement already satisfied: charset-normalizer<4,>=2 in /usr/local/lib/python3.11/dist-packages (from requests<3,>=2.27->streamlit) (3.4.2)\n",
            "Requirement already satisfied: urllib3<3,>=1.21.1 in /usr/local/lib/python3.11/dist-packages (from requests<3,>=2.27->streamlit) (2.4.0)\n",
            "Requirement already satisfied: greenlet>=1 in /usr/local/lib/python3.11/dist-packages (from SQLAlchemy<3,>=1.4->langchain) (3.2.3)\n",
            "Requirement already satisfied: regex>=2022.1.18 in /usr/local/lib/python3.11/dist-packages (from tiktoken<1,>=0.7->langchain-openai) (2024.11.6)\n",
            "Requirement already satisfied: smmap<6,>=3.0.1 in /usr/local/lib/python3.11/dist-packages (from gitdb<5,>=4.0.1->gitpython!=3.1.19,<4,>=3.0.7->streamlit) (5.0.2)\n",
            "Requirement already satisfied: MarkupSafe>=2.0 in /usr/local/lib/python3.11/dist-packages (from jinja2->altair<6,>=4.0->streamlit) (3.0.2)\n",
            "Requirement already satisfied: jsonpointer>=1.9 in /usr/local/lib/python3.11/dist-packages (from jsonpatch<2.0,>=1.33->langchain-core<1.0.0,>=0.3.66->langchain) (3.0.0)\n",
            "Requirement already satisfied: jsonschema-specifications>=2023.03.6 in /usr/local/lib/python3.11/dist-packages (from jsonschema>=3.0->altair<6,>=4.0->streamlit) (2025.4.1)\n",
            "Requirement already satisfied: referencing>=0.28.4 in /usr/local/lib/python3.11/dist-packages (from jsonschema>=3.0->altair<6,>=4.0->streamlit) (0.36.2)\n",
            "Requirement already satisfied: rpds-py>=0.7.1 in /usr/local/lib/python3.11/dist-packages (from jsonschema>=3.0->altair<6,>=4.0->streamlit) (0.26.0)\n",
            "Requirement already satisfied: six>=1.5 in /usr/local/lib/python3.11/dist-packages (from python-dateutil>=2.8.2->pandas<3,>=1.4.0->streamlit) (1.17.0)\n",
            "Requirement already satisfied: mypy-extensions>=0.3.0 in /usr/local/lib/python3.11/dist-packages (from typing-inspect<1,>=0.4.0->dataclasses-json<0.7,>=0.5.7->langchain-community) (1.1.0)\n"
          ]
        }
      ],
      "source": [
        "!pip3 install streamlit langchain openai langchain-openai langchain-community"
      ]
    },
    {
      "cell_type": "code",
      "source": [
        "import re\n",
        "import warnings\n",
        "import logging\n",
        "import os\n",
        "from langchain_openai import ChatOpenAI\n",
        "from langchain_community.utilities import SQLDatabase\n",
        "from langchain_openai import ChatOpenAI\n",
        "from langchain_community.tools.sql_database.tool import (\n",
        "    InfoSQLDatabaseTool,\n",
        "    ListSQLDatabaseTool,\n",
        "    QuerySQLDataBaseTool,\n",
        ")\n",
        "from langchain.agents import Tool\n",
        "from langchain_community.utilities import SQLDatabase\n",
        "from langchain_community.agent_toolkits.sql.toolkit import SQLDatabaseToolkit\n",
        "from langchain_community.agent_toolkits.sql.base import create_sql_agent\n",
        "from langchain.agents import Tool as LangchainTool\n",
        "import sqlite3\n",
        "import streamlit as st\n",
        "from datetime import datetime"
      ],
      "metadata": {
        "id": "qA4nkAxELBWg"
      },
      "execution_count": 2,
      "outputs": []
    },
    {
      "cell_type": "code",
      "source": [
        "import warnings\n",
        "import logging\n",
        "for name, l in logging.root.manager.loggerDict.items():\n",
        "    if \"streamlit\" in name:\n",
        "        l.disabled = True\n",
        "\n",
        "# Suppress specific warning about ScriptRunContext\n",
        "warnings.filterwarnings(\"ignore\", message=\".*ScriptRunContext.*\")\n",
        "\n",
        "# Suppress all other warnings\n",
        "warnings.filterwarnings(\"ignore\")\n",
        "\n",
        "# Suppress Streamlit internal logs\n",
        "logging.getLogger(\"streamlit.runtime.scriptrunner\").setLevel(logging.ERROR)\n",
        "\n",
        "# Suppress all other logs\n",
        "logging.getLogger().setLevel(logging.ERROR)"
      ],
      "metadata": {
        "id": "am7W1GlHUThb"
      },
      "execution_count": 21,
      "outputs": []
    },
    {
      "cell_type": "code",
      "source": [
        "import kagglehub\n",
        "\n",
        "# Download latest version\n",
        "path = kagglehub.dataset_download(\"bizzyvinci/coinmarketcap-historical-data\")\n",
        "\n",
        "print(\"Path to dataset files:\", path)"
      ],
      "metadata": {
        "colab": {
          "base_uri": "https://localhost:8080/"
        },
        "id": "z3_euBooPaMj",
        "outputId": "874c119c-b543-4056-efdb-c2bdefc7fa0d"
      },
      "execution_count": 24,
      "outputs": [
        {
          "output_type": "stream",
          "name": "stdout",
          "text": [
            "Path to dataset files: /kaggle/input/coinmarketcap-historical-data\n"
          ]
        }
      ]
    },
    {
      "cell_type": "code",
      "source": [
        "!ls -ltr /kaggle/input/coinmarketcap-historical-data/coinmarketcap.sqlite\n",
        "!cp /kaggle/input/coinmarketcap-historical-data/coinmarketcap.sqlite /content/coinmarketcap.sqlite\n",
        "!ls -ltr /content/coinmarketcap.sqlite"
      ],
      "metadata": {
        "colab": {
          "base_uri": "https://localhost:8080/"
        },
        "id": "touhGKY0psiY",
        "outputId": "e8e60bb5-4750-4298-9e94-a8093fc334b7"
      },
      "execution_count": 9,
      "outputs": [
        {
          "output_type": "stream",
          "name": "stdout",
          "text": [
            "-rw-r--r-- 1 1000 1000 848859136 Jul  6 16:52 /kaggle/input/coinmarketcap-historical-data/coinmarketcap.sqlite\n"
          ]
        }
      ]
    },
    {
      "cell_type": "code",
      "source": [
        "os.environ[\"OPENAI_API_KEY\"] = \"key\""
      ],
      "metadata": {
        "id": "Gwl0qu5g3IkK"
      },
      "execution_count": 25,
      "outputs": []
    },
    {
      "cell_type": "code",
      "source": [
        "def strict_sql_generator(question: str) -> str:\n",
        "    \"\"\"\n",
        "    Generate a valid SQL query from a natural language question using an LLM.\n",
        "\n",
        "    This function uses the current database schema and a language model (ChatOpenAI)\n",
        "    to translate a user-provided natural language question into a syntactically correct\n",
        "    SQL query. It strictly enforces that the generated SQL must only use tables and\n",
        "    columns present in the provided schema and must not include any explanations,\n",
        "    comments, or markdown formatting.\n",
        "\n",
        "    Args:\n",
        "        question (str): The natural language question to translate into SQL.\n",
        "\n",
        "    Returns:\n",
        "        str: A raw SQL query as a plain string.\n",
        "    \"\"\"\n",
        "    llm = ChatOpenAI(temperature=0)\n",
        "    prompt = (\n",
        "        \"You are a SQL expert.\\n\"\n",
        "        \"Use only the following database schema to answer the question.\\n\\n\"\n",
        "        f\"{schema}\\n\\n\"\n",
        "        \"Translate the question into a valid SQL query.\\n\"\n",
        "        \"Do NOT make up tables or columns.\\n\"\n",
        "        \"Return ONLY the SQL query. Do NOT wrap it in markdown or provide explanation.\\n\\n\"\n",
        "        f\"Question: {question}\\nSQL:\"\n",
        "    )\n",
        "    return llm.predict(prompt)"
      ],
      "metadata": {
        "id": "iM0OB3qKLSIi"
      },
      "execution_count": 26,
      "outputs": []
    },
    {
      "cell_type": "code",
      "source": [
        "def fix_invalid_sql(sql: str, error_msg: str) -> str:\n",
        "    \"\"\"\n",
        "    Attempts to fix an invalid SQL query by prompting a language model with the error context.\n",
        "\n",
        "    Given a faulty SQL statement and the associated error message, this function uses an LLM\n",
        "    (e.g., ChatOpenAI) to suggest a corrected version of the query. The prompt instructs the model\n",
        "    to return only the fixed SQL query, with no additional explanation or formatting.\n",
        "\n",
        "    Args:\n",
        "        sql (str): The original, invalid SQL query.\n",
        "        error_msg (str): The error message generated when the SQL was executed.\n",
        "\n",
        "    Returns:\n",
        "        str: A corrected SQL query as a plain string.\n",
        "    \"\"\"\n",
        "    prompt = (\n",
        "        f\"This SQL caused an error: `{sql}`\\n\"\n",
        "        f\"Error: {error_msg}\\n\"\n",
        "        f\"Fix the SQL and return only the corrected query.\"\n",
        "    )\n",
        "    return llm.predict(prompt)"
      ],
      "metadata": {
        "id": "_jaoZqQVLUh0"
      },
      "execution_count": 27,
      "outputs": []
    },
    {
      "cell_type": "code",
      "source": [
        "def extract_sql_from_response(text):\n",
        "    \"\"\"\n",
        "    Extracts a raw SQL query from a text response, typically returned by a language model.\n",
        "\n",
        "    This function searches for SQL code enclosed in markdown-style triple backticks (e.g., ```sql ... ```)\n",
        "    and extracts the SQL statement. If no code block is found, it returns the entire input text stripped\n",
        "    of leading and trailing whitespace.\n",
        "\n",
        "    Args:\n",
        "        text (str): The text response potentially containing SQL inside a markdown code block.\n",
        "\n",
        "    Returns:\n",
        "        str: The extracted SQL query, or the plain text if no code block is found.\n",
        "    \"\"\"\n",
        "    match = re.search(r\"```(?:sql)?\\s*(.*?)```\", text, re.DOTALL)\n",
        "    if match:\n",
        "        return match.group(1).strip()\n",
        "    return text.strip()"
      ],
      "metadata": {
        "id": "DJe9f-qOLXNM"
      },
      "execution_count": 28,
      "outputs": []
    },
    {
      "cell_type": "code",
      "source": [
        "def get_actual_tables(db: SQLDatabase):\n",
        "    \"\"\"\n",
        "    Retrieves the list of actual table names from a SQLite database.\n",
        "\n",
        "    Connects to the underlying SQLite engine using the LangChain SQLDatabase object,\n",
        "    queries the `sqlite_master` table to get all table names, and returns them as a set\n",
        "    of lowercase strings.\n",
        "\n",
        "    Args:\n",
        "        db (SQLDatabase): An instance of LangChain's SQLDatabase connected to a SQLite database.\n",
        "\n",
        "    Returns:\n",
        "        set: A set containing the names of all tables in the database, in lowercase.\n",
        "    \"\"\"\n",
        "    conn = db._engine.raw_connection()\n",
        "    cursor = conn.cursor()\n",
        "    cursor.execute(\"SELECT name FROM sqlite_master WHERE type='table';\")\n",
        "    tables = [row[0].lower() for row in cursor.fetchall()]\n",
        "    conn.close()\n",
        "    return set(tables)"
      ],
      "metadata": {
        "id": "A8bRk2U5LZ8R"
      },
      "execution_count": 29,
      "outputs": []
    },
    {
      "cell_type": "code",
      "source": [
        "def validate_sql_tables(sql_query, db: SQLDatabase):\n",
        "    \"\"\"\n",
        "    Validates whether the SQL query references only existing tables in the database.\n",
        "\n",
        "    Extracts table names used in the SQL query (from FROM and JOIN clauses), compares\n",
        "    them against the actual tables present in the database, and identifies any missing\n",
        "    or invalid table references.\n",
        "\n",
        "    Args:\n",
        "        sql_query (str): The SQL query to validate.\n",
        "        db (SQLDatabase): An instance of LangChain's SQLDatabase connected to the target SQLite database.\n",
        "\n",
        "    Returns:\n",
        "        set: A set of table names that are referenced in the SQL query but do not exist in the database.\n",
        "    \"\"\"\n",
        "    actual_tables = get_actual_tables(db)\n",
        "    sql_tables = set(filter(None, sum(extract_tables_from_sql(sql_query), ())))\n",
        "    missing = sql_tables - actual_tables\n",
        "    return missing"
      ],
      "metadata": {
        "id": "stejdwdXLdkT"
      },
      "execution_count": 30,
      "outputs": []
    },
    {
      "cell_type": "code",
      "source": [
        "def extract_tables_from_sql(sql_query):\n",
        "    \"\"\"\n",
        "    Extracts table names used in a SQL query.\n",
        "\n",
        "    This function identifies and returns all table names that appear after\n",
        "    'FROM' or 'JOIN' keywords in the SQL query using regular expression matching.\n",
        "\n",
        "    Args:\n",
        "        sql_query (str): A SQL query string.\n",
        "\n",
        "    Returns:\n",
        "        list of tuple: A list of tuples containing table names found after 'FROM' or 'JOIN'.\n",
        "                       Each tuple contains two elements, with one of them being None\n",
        "                       depending on which keyword matched.\n",
        "    \"\"\"\n",
        "    return re.findall(r\"FROM\\s+(\\w+)|JOIN\\s+(\\w+)\", sql_query, re.IGNORECASE)\n"
      ],
      "metadata": {
        "id": "lAdIpfdVsTq3"
      },
      "execution_count": 31,
      "outputs": []
    },
    {
      "cell_type": "code",
      "source": [
        "def auto_correct_sql(sql_query, schema, missing_tables):\n",
        "    \"\"\"\n",
        "    Attempts to automatically correct a SQL query by leveraging an LLM to fix invalid table references.\n",
        "\n",
        "    Constructs a prompt that explains the SQL error and provides the valid database schema,\n",
        "    then asks the LLM to return a corrected SQL query using only valid tables and columns.\n",
        "\n",
        "    Args:\n",
        "        sql_query (str): The original SQL query with invalid or missing table references.\n",
        "        schema (str): The full schema of the valid database tables and columns.\n",
        "        missing_tables (set): A set of table names that were not found in the database.\n",
        "\n",
        "    Returns:\n",
        "        str: A corrected SQL query as suggested by the LLM, typically enclosed in a markdown code block.\n",
        "    \"\"\"\n",
        "    correction_prompt = (\n",
        "        \"You have generated the following SQL query, but it uses missing or invalid tables:\\n\\n\"\n",
        "        f\"{sql_query}\\n\\n\"\n",
        "        f\"Missing tables: {', '.join(missing_tables)}\\n\\n\"\n",
        "        f\"Here is the valid database schema:\\n{schema}\\n\\n\"\n",
        "        \"Please return a corrected SQL query using only valid tables and columns. Return only SQL in a markdown code block.\"\n",
        "    )\n",
        "    return llm.predict(correction_prompt)"
      ],
      "metadata": {
        "id": "AlFD8fuWLgSg"
      },
      "execution_count": 32,
      "outputs": []
    },
    {
      "cell_type": "code",
      "source": [
        "db = SQLDatabase.from_uri(\"sqlite:///coinmarketcap.sqlite\")\n",
        "schema = db.get_table_info()\n",
        "llm = ChatOpenAI(temperature=0, model=\"gpt-4o\")  # or \"gpt-4\" or \"gpt-3.5-turbo\"\n",
        "db_path = \"/content/coinmarketcap.sqlite\"\n",
        "conn = sqlite3.connect(db_path)\n",
        "cursor = conn.cursor()\n",
        "tools = [\n",
        "    QuerySQLDataBaseTool(db=db),\n",
        "    InfoSQLDatabaseTool(db=db),\n",
        "    ListSQLDatabaseTool(db=db),\n",
        "    LangchainTool(\n",
        "        name=\"Explain SQL\",\n",
        "        func=lambda sql: ChatOpenAI(temperature=0).predict(f\"Explain this SQL: {sql}\"),\n",
        "        description=\"Explains the meaning of a given SQL query\",\n",
        "    ),\n",
        "    LangchainTool(\n",
        "        name=\"StrictSQLGenerator\",\n",
        "        func=strict_sql_generator,\n",
        "        description=\"NLQ -> SQL only\",\n",
        "    ),\n",
        "]\n",
        "strict_sql_tool = Tool(\n",
        "    name=\"StrictSQLGenerator\",\n",
        "    func=strict_sql_generator,\n",
        "    description=\"Takes a natural language question and returns only the SQL query\",\n",
        ")\n",
        "\n",
        "toolkit = SQLDatabaseToolkit(db=db, llm=llm)\n",
        "\n",
        "agent_executor = create_sql_agent(\n",
        "    tools=[strict_sql_tool],\n",
        "    llm=llm,\n",
        "    toolkit=toolkit,\n",
        "    verbose=True,\n",
        "    handle_parsing_errors=True,\n",
        ")"
      ],
      "metadata": {
        "id": "OeCiwCylKw43",
        "colab": {
          "base_uri": "https://localhost:8080/",
          "height": 17
        },
        "outputId": "022d2d85-3a74-48fb-cfc0-a2484147dadf"
      },
      "execution_count": 39,
      "outputs": [
        {
          "output_type": "display_data",
          "data": {
            "text/plain": [
              "<IPython.core.display.HTML object>"
            ],
            "text/html": [
              "\n",
              "  <style>\n",
              "    pre {\n",
              "        white-space: pre-wrap;\n",
              "    }\n",
              "  </style>\n",
              "  "
            ]
          },
          "metadata": {}
        }
      ]
    },
    {
      "cell_type": "code",
      "source": [
        "user_question = \"What was the highest price of Bitcoin in January 2020?\"\n",
        "\n",
        "if user_question:\n",
        "      agent_prompt = (\n",
        "          \"You are a SQL expert.\\n\"\n",
        "          \"Use only the following database schema to answer the question.\\n\\n\"\n",
        "          f\"{schema}\\n\\n\"\n",
        "          \"Translate the question into a valid SQL query.\\n\"\n",
        "          \"Do NOT make up tables or columns.\\n\"\n",
        "          \"Return ONLY the SQL query. Do NOT wrap it in markdown or provide explanation.\\n\\n\"\n",
        "          f\"Question: {user_question}\\nSQL:\"\n",
        "      )\n",
        "      raw_output = llm.predict(agent_prompt)\n",
        "      generated_sql = extract_sql_from_response(raw_output)\n",
        "\n",
        "raw_sql = strict_sql_generator(user_question)\n",
        "sql = extract_sql_from_response(raw_sql)\n",
        "st.text_area(\"Generated SQL\", sql)\n",
        "\n",
        "missing_tables = validate_sql_tables(generated_sql, db)\n",
        "if missing_tables:\n",
        "  corrected_sql = auto_correct_sql(generated_sql, schema, missing_tables)\n",
        "  corrected_sql_clean = extract_sql_from_response(corrected_sql)\n",
        "  if sql.lower().startswith(\"-- no valid sql\"):\n",
        "      print(\"⚠️ The model couldn't generate a SQL query based on your question.\")\n",
        "  else:\n",
        "      print(\"✅ Corrected SQL:\", corrected_sql_clean)\n",
        "else:\n",
        "    try:\n",
        "        conn = sqlite3.connect(db_path)\n",
        "        cur = conn.cursor()\n",
        "        cur.execute(sql)\n",
        "        rows = cur.fetchall()\n",
        "        col_names = [desc[0] for desc in cur.description]\n",
        "        conn.close()\n",
        "        print(\"✅ Query executed successfully\")\n",
        "        result = [dict(zip(col_names, row)) for row in rows]\n",
        "        print(\"Result:\",result)\n",
        "        explain_prompt = f\"Explain what the following SQL query does:\\n\\n{sql}\"\n",
        "        explanation = llm.predict(explain_prompt)\n",
        "        print(\"Query Explanation\",explanation)\n",
        "    except Exception as e:\n",
        "        print(f\"❌ SQL Error: {e}\")\n",
        "        fixed_sql = fix_invalid_sql(generated_sql, str(e))\n",
        "        st.warning(\"Suggested fix:\")"
      ],
      "metadata": {
        "colab": {
          "base_uri": "https://localhost:8080/",
          "height": 374
        },
        "id": "hNQc4ckCMTbA",
        "outputId": "68e218bc-6e27-49b2-8f03-f2c57b33aa49"
      },
      "execution_count": 37,
      "outputs": [
        {
          "output_type": "display_data",
          "data": {
            "text/plain": [
              "<IPython.core.display.HTML object>"
            ],
            "text/html": [
              "\n",
              "  <style>\n",
              "    pre {\n",
              "        white-space: pre-wrap;\n",
              "    }\n",
              "  </style>\n",
              "  "
            ]
          },
          "metadata": {}
        },
        {
          "output_type": "stream",
          "name": "stdout",
          "text": [
            "✅ Query executed successfully\n",
            "Result: [{'MAX(high)': 9553.12613251}]\n",
            "Query Explanation This SQL query is designed to retrieve the highest value from a specific dataset. Here's a breakdown of what each part of the query does:\n",
            "\n",
            "- `SELECT MAX(high)`: This part of the query is selecting the maximum value from the column named `high`. The `MAX()` function is an aggregate function that returns the largest value in a specified column.\n",
            "\n",
            "- `FROM historical`: This specifies the table from which to retrieve the data. In this case, the table is named `historical`.\n",
            "\n",
            "- `WHERE coin_id = 1`: This condition filters the rows to include only those where the `coin_id` column has a value of 1. This implies that the query is interested in data related to a specific coin or asset identified by the ID 1.\n",
            "\n",
            "- `AND date >= '2020-01-01' AND date <= '2020-01-31'`: These conditions further filter the data to include only the rows where the `date` column falls within the specified range, from January 1, 2020, to January 31, 2020, inclusive. This means the query is looking for the highest value of the `high` column within this date range.\n",
            "\n",
            "Overall, the query is finding the maximum value of the `high` column for the coin with `coin_id` 1 during the month of January 2020.\n"
          ]
        }
      ]
    }
  ]
}